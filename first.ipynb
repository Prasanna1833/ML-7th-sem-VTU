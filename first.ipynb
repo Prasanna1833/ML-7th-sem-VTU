{
 "cells": [
  {
   "cell_type": "code",
   "execution_count": 2,
   "id": "b365fcce-9a3e-49b6-bd6d-e08e9fbc23ae",
   "metadata": {},
   "outputs": [],
   "source": [
    "import pandas as pd\n",
    "import matplotlib.pyplot as plt\n",
    "from sklearn.datasets import load_iris\n",
    "from sklearn.model_selection import train_test_split"
   ]
  },
  {
   "cell_type": "code",
   "execution_count": 9,
   "id": "595b2143-2abc-42fb-aa96-325e8973bdbf",
   "metadata": {},
   "outputs": [
    {
     "data": {
      "text/plain": [
       "array([[6.7, 3.1, 4.7, 1.5],\n",
       "       [4.7, 3.2, 1.3, 0.2],\n",
       "       [5.3, 3.7, 1.5, 0.2],\n",
       "       [5.1, 3.5, 1.4, 0.3],\n",
       "       [4.4, 2.9, 1.4, 0.2],\n",
       "       [5.1, 3.8, 1.5, 0.3],\n",
       "       [6.1, 3. , 4.9, 1.8],\n",
       "       [5.8, 4. , 1.2, 0.2],\n",
       "       [5.4, 3. , 4.5, 1.5],\n",
       "       [4.3, 3. , 1.1, 0.1],\n",
       "       [6.4, 2.8, 5.6, 2.2],\n",
       "       [6.9, 3.1, 5.1, 2.3],\n",
       "       [6.2, 2.2, 4.5, 1.5],\n",
       "       [6.7, 3.1, 5.6, 2.4],\n",
       "       [7.2, 3.6, 6.1, 2.5],\n",
       "       [6.1, 2.8, 4. , 1.3],\n",
       "       [4.6, 3.2, 1.4, 0.2],\n",
       "       [6. , 3.4, 4.5, 1.6],\n",
       "       [5. , 3.5, 1.6, 0.6],\n",
       "       [6.2, 2.8, 4.8, 1.8],\n",
       "       [7.7, 3.8, 6.7, 2.2],\n",
       "       [5.7, 3.8, 1.7, 0.3],\n",
       "       [7.7, 2.6, 6.9, 2.3],\n",
       "       [5. , 3.4, 1.5, 0.2],\n",
       "       [6.7, 3.3, 5.7, 2.5],\n",
       "       [7. , 3.2, 4.7, 1.4],\n",
       "       [5. , 2. , 3.5, 1. ],\n",
       "       [4.9, 3.6, 1.4, 0.1],\n",
       "       [4.8, 3. , 1.4, 0.1],\n",
       "       [7.7, 3. , 6.1, 2.3],\n",
       "       [5.6, 2.9, 3.6, 1.3],\n",
       "       [6.4, 3.2, 4.5, 1.5],\n",
       "       [5. , 3.3, 1.4, 0.2],\n",
       "       [5.5, 2.4, 3.7, 1. ],\n",
       "       [5. , 3.6, 1.4, 0.2],\n",
       "       [5.8, 2.7, 4.1, 1. ],\n",
       "       [5.5, 2.4, 3.8, 1.1],\n",
       "       [5. , 2.3, 3.3, 1. ],\n",
       "       [6.5, 3. , 5.2, 2. ],\n",
       "       [6.5, 3. , 5.5, 1.8],\n",
       "       [5. , 3.5, 1.3, 0.3],\n",
       "       [6.5, 2.8, 4.6, 1.5],\n",
       "       [6.3, 2.5, 5. , 1.9],\n",
       "       [6.7, 3. , 5. , 1.7],\n",
       "       [5.6, 2.8, 4.9, 2. ],\n",
       "       [7.2, 3. , 5.8, 1.6],\n",
       "       [6. , 2.2, 5. , 1.5],\n",
       "       [5.1, 3.4, 1.5, 0.2],\n",
       "       [4.5, 2.3, 1.3, 0.3],\n",
       "       [5.1, 3.8, 1.9, 0.4],\n",
       "       [7.6, 3. , 6.6, 2.1],\n",
       "       [6.3, 3.3, 6. , 2.5],\n",
       "       [5.2, 3.4, 1.4, 0.2],\n",
       "       [5.8, 2.7, 5.1, 1.9],\n",
       "       [5.9, 3.2, 4.8, 1.8],\n",
       "       [5.2, 2.7, 3.9, 1.4],\n",
       "       [5.4, 3.4, 1.7, 0.2],\n",
       "       [5.9, 3. , 5.1, 1.8],\n",
       "       [6.4, 2.8, 5.6, 2.1],\n",
       "       [4.9, 3. , 1.4, 0.2],\n",
       "       [5.2, 3.5, 1.5, 0.2],\n",
       "       [5.8, 2.7, 5.1, 1.9],\n",
       "       [5.6, 2.5, 3.9, 1.1],\n",
       "       [4.4, 3. , 1.3, 0.2],\n",
       "       [5. , 3. , 1.6, 0.2],\n",
       "       [5.5, 2.6, 4.4, 1.2],\n",
       "       [6.8, 3.2, 5.9, 2.3],\n",
       "       [6.5, 3. , 5.8, 2.2],\n",
       "       [6. , 2.9, 4.5, 1.5],\n",
       "       [7.1, 3. , 5.9, 2.1],\n",
       "       [6.1, 2.8, 4.7, 1.2],\n",
       "       [6.8, 2.8, 4.8, 1.4],\n",
       "       [6.7, 3. , 5.2, 2.3],\n",
       "       [5.4, 3.9, 1.3, 0.4],\n",
       "       [4.8, 3.4, 1.9, 0.2],\n",
       "       [6.3, 2.3, 4.4, 1.3],\n",
       "       [6.7, 3.3, 5.7, 2.1],\n",
       "       [5.2, 4.1, 1.5, 0.1],\n",
       "       [4.9, 2.4, 3.3, 1. ],\n",
       "       [4.4, 3.2, 1.3, 0.2],\n",
       "       [5.1, 3.3, 1.7, 0.5],\n",
       "       [4.9, 3.1, 1.5, 0.1],\n",
       "       [5.9, 3. , 4.2, 1.5],\n",
       "       [4.6, 3.6, 1. , 0.2],\n",
       "       [7.7, 2.8, 6.7, 2. ],\n",
       "       [7.9, 3.8, 6.4, 2. ],\n",
       "       [5.7, 2.6, 3.5, 1. ],\n",
       "       [6.1, 2.6, 5.6, 1.4],\n",
       "       [6. , 3. , 4.8, 1.8],\n",
       "       [6.3, 2.7, 4.9, 1.8],\n",
       "       [5.1, 3.5, 1.4, 0.2],\n",
       "       [5.7, 4.4, 1.5, 0.4],\n",
       "       [6.3, 2.9, 5.6, 1.8],\n",
       "       [6.6, 2.9, 4.6, 1.3],\n",
       "       [6.4, 3.2, 5.3, 2.3],\n",
       "       [5.6, 3. , 4.1, 1.3],\n",
       "       [6.1, 3. , 4.6, 1.4],\n",
       "       [5.1, 3.8, 1.6, 0.2],\n",
       "       [5.7, 3. , 4.2, 1.2],\n",
       "       [6.1, 2.9, 4.7, 1.4],\n",
       "       [5.4, 3.4, 1.5, 0.4],\n",
       "       [4.8, 3.1, 1.6, 0.2],\n",
       "       [6.3, 3.3, 4.7, 1.6],\n",
       "       [4.9, 2.5, 4.5, 1.7],\n",
       "       [6.7, 2.5, 5.8, 1.8],\n",
       "       [4.7, 3.2, 1.6, 0.2],\n",
       "       [6.7, 3.1, 4.4, 1.4],\n",
       "       [4.8, 3. , 1.4, 0.3],\n",
       "       [4.6, 3.4, 1.4, 0.3],\n",
       "       [5.5, 2.5, 4. , 1.3],\n",
       "       [6.9, 3.2, 5.7, 2.3],\n",
       "       [5.8, 2.8, 5.1, 2.4]])"
      ]
     },
     "execution_count": 9,
     "metadata": {},
     "output_type": "execute_result"
    }
   ],
   "source": [
    "iris = load_iris()\n",
    "x_train , x_test, y_train, y_test = train_test_split(iris.data, iris.target)\n"
   ]
  },
  {
   "cell_type": "code",
   "execution_count": 19,
   "id": "4faf4f80-ea99-401e-af4c-abb560cb39ac",
   "metadata": {},
   "outputs": [
    {
     "data": {
      "text/plain": [
       "Text(0, 0.5, 'petal length')"
      ]
     },
     "execution_count": 19,
     "metadata": {},
     "output_type": "execute_result"
    },
    {
     "data": {
      "image/png": "[encoded data removed]",
      "text/plain": [
       "<Figure size 640x480 with 1 Axes>"
      ]
     },
     "metadata": {},
     "output_type": "display_data"
    }
   ],
   "source": [
    "X = pd.DataFrame(x_train)\n",
    "x1 = X.iloc[:,0]\n",
    "x2 = X.iloc[:,1]\n",
    "#plt.plot(x1,x2)\n",
    "plt.scatter(x1,x2)\n",
    "plt.title(\"plot of iris sepal and petal length\")\n",
    "plt.xlabel(\"sepal length\")\n",
    "plt.ylabel(\"petal length\")"
   ]
  },
  {
   "cell_type": "code",
   "execution_count": 1,
   "id": "9dbd351e-e40e-464f-8809-8f9b62788462",
   "metadata": {},
   "outputs": [
    {
     "data": {
      "text/html": [
       "<div>\n",
       "<style scoped>\n",
       "    .dataframe tbody tr th:only-of-type {\n",
       "        vertical-align: middle;\n",
       "    }\n",
       "\n",
       "    .dataframe tbody tr th {\n",
       "        vertical-align: top;\n",
       "    }\n",
       "\n",
       "    .dataframe thead th {\n",
       "        text-align: right;\n",
       "    }\n",
       "</style>\n",
       "<table border=\"1\" class=\"dataframe\">\n",
       "  <thead>\n",
       "    <tr style=\"text-align: right;\">\n",
       "      <th></th>\n",
       "      <th>here</th>\n",
       "      <th>is</th>\n",
       "      <th>the</th>\n",
       "      <th>csv</th>\n",
       "      <th>file</th>\n",
       "      <th>Unnamed: 5</th>\n",
       "    </tr>\n",
       "  </thead>\n",
       "  <tbody>\n",
       "    <tr>\n",
       "      <th>0</th>\n",
       "      <td>lets</td>\n",
       "      <td>see</td>\n",
       "      <td>whether</td>\n",
       "      <td>it</td>\n",
       "      <td>updates</td>\n",
       "      <td>or not</td>\n",
       "    </tr>\n",
       "  </tbody>\n",
       "</table>\n",
       "</div>"
      ],
      "text/plain": [
       "   here   is      the csv      file Unnamed: 5\n",
       "0  lets  see  whether  it  updates      or not"
      ]
     },
     "execution_count": 1,
     "metadata": {},
     "output_type": "execute_result"
    }
   ],
   "source": [
    "import pandas as pd\n",
    "file = pd.read_csv(\"data.csv\")\n",
    "file"
   ]
  }
 ],
 "metadata": {
  "kernelspec": {
   "display_name": "Python 3 (ipykernel)",
   "language": "python",
   "name": "python3"
  },
  "language_info": {
   "codemirror_mode": {
    "name": "ipython",
    "version": 3
   },
   "file_extension": ".py",
   "mimetype": "text/x-python",
   "name": "python",
   "nbconvert_exporter": "python",
   "pygments_lexer": "ipython3",
   "version": "3.11.5"
  }
 },
 "nbformat": 4,
 "nbformat_minor": 5
}
