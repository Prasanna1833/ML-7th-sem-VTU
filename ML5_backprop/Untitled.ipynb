{
 "cells": [
  {
   "cell_type": "code",
   "execution_count": 1,
   "id": "29b235df-4e94-4214-9080-8b1f219e86e2",
   "metadata": {},
   "outputs": [],
   "source": [
    "import numpy as np\n",
    "x = np.array(([2.9],[1.5],[3.6]),dtype=float)\n",
    "y = np.array(([0.92],[0.86],[0.89]),dtype=float)"
   ]
  },
  {
   "cell_type": "code",
   "execution_count": 2,
   "id": "b12e8c88-b9c8-4ca0-b3af-d092f2f64cf8",
   "metadata": {},
   "outputs": [],
   "source": [
    "X =x/np.amax(x,axis=0)"
   ]
  },
  {
   "cell_type": "code",
   "execution_count": 10,
   "id": "c7594d48-a6f5-4563-9e7c-e789655c02d3",
   "metadata": {},
   "outputs": [],
   "source": [
    "def sigmoid(x):\n",
    "    return 1/(1+np.exp(-x))\n",
    "def der_sigmoid(x):\n",
    "    return x*(1-x)"
   ]
  },
  {
   "cell_type": "code",
   "execution_count": 11,
   "id": "0fef3aaf-5455-49f8-9e14-8c6b3398f8dc",
   "metadata": {},
   "outputs": [],
   "source": [
    "iter = 5000\n",
    "lr = 0.01\n",
    "neuron_i = 1\n",
    "neuron_h = 3\n",
    "neuron_o = 1"
   ]
  },
  {
   "cell_type": "code",
   "execution_count": 14,
   "id": "7663b3c6-10b4-4de6-9df6-0d2c4dc73fbc",
   "metadata": {},
   "outputs": [],
   "source": [
    "for i in range(iter):\n",
    "    weight_h = np.random.uniform(size=(neuron_i,neuron_h))\n",
    "    bias_h = np.random.uniform(2,neuron_h)\n",
    "    weight_o = np.random.uniform(size=(neuron_h,neuron_o))\n",
    "    bias_o = np.random.uniform(2,neuron_o)\n",
    "    inp_h = np.dot(X,weight_h)+bias_h\n",
    "    out_h = sigmoid(inp_h)\n",
    "    inp_o = np.dot(out_h, weight_o) + bias_o\n",
    "    out_o = sigmoid(inp_o)\n",
    "    err_o = y-out_o\n",
    "    grad_o = der_sigmoid(out_o)\n",
    "    delta_o = err_o * grad_o\n",
    "    err_h = delta_o . dot(weight_o . T)\n",
    "    grad_h = der_sigmoid(out_h)\n",
    "    delta_h = err_h * grad_h\n",
    "    weight_o = out_h.T.dot(delta_o)*lr\n",
    "    weight_h = X.T.dot(delta_h)*lr"
   ]
  },
  {
   "cell_type": "code",
   "execution_count": 15,
   "id": "dc5e31a2-67f7-466c-9ea1-5f4fca2e422a",
   "metadata": {},
   "outputs": [
    {
     "name": "stdout",
     "output_type": "stream",
     "text": [
      "input : [[0.80555556]\n",
      " [0.41666667]\n",
      " [1.        ]]\n",
      "actual : [[0.92]\n",
      " [0.86]\n",
      " [0.89]]\n",
      "predicted : [[0.95437394]\n",
      " [0.95272033]\n",
      " [0.95502047]]\n"
     ]
    }
   ],
   "source": [
    "print(\"input :\",X)\n",
    "print(\"actual :\",y)\n",
    "print(\"predicted :\",out_o)"
   ]
  }
 ],
 "metadata": {
  "kernelspec": {
   "display_name": "Python 3 (ipykernel)",
   "language": "python",
   "name": "python3"
  },
  "language_info": {
   "codemirror_mode": {
    "name": "ipython",
    "version": 3
   },
   "file_extension": ".py",
   "mimetype": "text/x-python",
   "name": "python",
   "nbconvert_exporter": "python",
   "pygments_lexer": "ipython3",
   "version": "3.11.5"
  }
 },
 "nbformat": 4,
 "nbformat_minor": 5
}
