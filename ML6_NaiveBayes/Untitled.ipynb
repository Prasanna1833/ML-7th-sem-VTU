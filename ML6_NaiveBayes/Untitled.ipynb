{
 "cells": [
  {
   "cell_type": "code",
   "execution_count": 3,
   "id": "26a41ef1-d8ee-4bd9-996e-bfc72bbf465f",
   "metadata": {},
   "outputs": [],
   "source": [
    "import pandas as pd\n",
    "from sklearn.preprocessing import LabelEncoder\n",
    "from sklearn.naive_bayes import GaussianNB"
   ]
  },
  {
   "cell_type": "code",
   "execution_count": 4,
   "id": "7db8e723-d6ff-4c9a-b0cd-ed26a83d5574",
   "metadata": {},
   "outputs": [
    {
     "name": "stdout",
     "output_type": "stream",
     "text": [
      "      outlook temperature humidity   windy\n",
      "0       sunny         hot     high    weak\n",
      "1       sunny         hot     high  strong\n",
      "2    overcast         hot     high    weak\n",
      "3        rain        mild     high    weak\n",
      "4        rain        cool   normal    weak\n",
      "5        rain        cool   normal  strong\n",
      "6   overcast         cool   normal  strong\n",
      "7       sunny        mild     high    weak\n",
      "8       sunny        cool   normal    weak\n",
      "9        rain        mild   normal    weak\n",
      "10      sunny        mild   normal  strong\n",
      "11   overcast        mild     high  strong\n",
      "12   overcast         hot   normal    weak\n",
      "13       rain        mild     high  strong\n",
      "0      no\n",
      "1      no\n",
      "2     yes\n",
      "3     yes\n",
      "4     yes\n",
      "5      no\n",
      "6     yes\n",
      "7      no\n",
      "8     yes\n",
      "9     yes\n",
      "10    yes\n",
      "11    yes\n",
      "12    yes\n",
      "13     no\n",
      "Name: play tennis, dtype: object\n"
     ]
    }
   ],
   "source": [
    "tennis = pd.read_csv(\"tennis.csv\")\n",
    "x = tennis.iloc[:,:-1]\n",
    "y = tennis.iloc[:,-1]\n",
    "print(x)\n",
    "print(y)"
   ]
  },
  {
   "cell_type": "code",
   "execution_count": 8,
   "id": "b9db9798-7163-4e73-9877-7587595a1c5e",
   "metadata": {},
   "outputs": [
    {
     "name": "stdout",
     "output_type": "stream",
     "text": [
      "    outlook  temperature  humidity  windy\n",
      "0         3            1         0      1\n",
      "1         3            1         0      0\n",
      "2         0            1         0      1\n",
      "3         2            2         0      1\n",
      "4         2            0         1      1\n",
      "5         2            0         1      0\n",
      "6         1            0         1      0\n",
      "7         3            2         0      1\n",
      "8         3            0         1      1\n",
      "9         2            2         1      1\n",
      "10        3            2         1      0\n",
      "11        0            2         0      0\n",
      "12        0            1         1      1\n",
      "13        2            2         0      0\n"
     ]
    },
    {
     "name": "stderr",
     "output_type": "stream",
     "text": [
      "C:\\Users\\prasa\\AppData\\Local\\Temp\\ipykernel_15424\\1761541196.py:2: SettingWithCopyWarning: \n",
      "A value is trying to be set on a copy of a slice from a DataFrame.\n",
      "Try using .loc[row_indexer,col_indexer] = value instead\n",
      "\n",
      "See the caveats in the documentation: https://pandas.pydata.org/pandas-docs/stable/user_guide/indexing.html#returning-a-view-versus-a-copy\n",
      "  x.outlook = le_outlook.fit_transform(x.outlook)\n",
      "C:\\Users\\prasa\\AppData\\Local\\Temp\\ipykernel_15424\\1761541196.py:5: SettingWithCopyWarning: \n",
      "A value is trying to be set on a copy of a slice from a DataFrame.\n",
      "Try using .loc[row_indexer,col_indexer] = value instead\n",
      "\n",
      "See the caveats in the documentation: https://pandas.pydata.org/pandas-docs/stable/user_guide/indexing.html#returning-a-view-versus-a-copy\n",
      "  x.temperature = le_temperature.fit_transform(x.temperature)\n",
      "C:\\Users\\prasa\\AppData\\Local\\Temp\\ipykernel_15424\\1761541196.py:8: SettingWithCopyWarning: \n",
      "A value is trying to be set on a copy of a slice from a DataFrame.\n",
      "Try using .loc[row_indexer,col_indexer] = value instead\n",
      "\n",
      "See the caveats in the documentation: https://pandas.pydata.org/pandas-docs/stable/user_guide/indexing.html#returning-a-view-versus-a-copy\n",
      "  x.humidity = le_hum.fit_transform(x.humidity)\n",
      "C:\\Users\\prasa\\AppData\\Local\\Temp\\ipykernel_15424\\1761541196.py:11: SettingWithCopyWarning: \n",
      "A value is trying to be set on a copy of a slice from a DataFrame.\n",
      "Try using .loc[row_indexer,col_indexer] = value instead\n",
      "\n",
      "See the caveats in the documentation: https://pandas.pydata.org/pandas-docs/stable/user_guide/indexing.html#returning-a-view-versus-a-copy\n",
      "  x.windy = le_windy.fit_transform(x.windy)\n"
     ]
    }
   ],
   "source": [
    "le_outlook = LabelEncoder()\n",
    "x.outlook = le_outlook.fit_transform(x.outlook)\n",
    "\n",
    "le_temperature = LabelEncoder()\n",
    "x.temperature = le_temperature.fit_transform(x.temperature)\n",
    "\n",
    "le_hum = LabelEncoder()\n",
    "x.humidity = le_hum.fit_transform(x.humidity)\n",
    "\n",
    "le_windy = LabelEncoder()\n",
    "x.windy = le_windy.fit_transform(x.windy)\n",
    "\n",
    "print(x)"
   ]
  },
  {
   "cell_type": "code",
   "execution_count": 11,
   "id": "f6be0dc7-a154-4e59-8b0b-a0b7eee07ba3",
   "metadata": {},
   "outputs": [
    {
     "data": {
      "text/plain": [
       "array([0, 0, 1, 1, 1, 0, 1, 0, 1, 1, 1, 1, 1, 0], dtype=int64)"
      ]
     },
     "execution_count": 11,
     "metadata": {},
     "output_type": "execute_result"
    }
   ],
   "source": [
    "le_target = LabelEncoder()\n",
    "y = le_target.fit_transform(y)\n",
    "y"
   ]
  },
  {
   "cell_type": "code",
   "execution_count": 13,
   "id": "40a4b4c0-bd27-4ec4-a1d4-75cd77fe0001",
   "metadata": {},
   "outputs": [
    {
     "name": "stdout",
     "output_type": "stream",
     "text": [
      "accuracy score is -> 0.3333333333333333\n"
     ]
    }
   ],
   "source": [
    "from sklearn.model_selection import train_test_split\n",
    "x_train, x_test, y_train, y_test = train_test_split(x,y,test_size=0.2)\n",
    "classifier = GaussianNB()\n",
    "classifier.fit(x_train, y_train)\n",
    "\n",
    "from sklearn.metrics import accuracy_score\n",
    "print(\"accuracy score is ->\",accuracy_score(classifier.predict(x_test),y_test))"
   ]
  }
 ],
 "metadata": {
  "kernelspec": {
   "display_name": "Python 3 (ipykernel)",
   "language": "python",
   "name": "python3"
  },
  "language_info": {
   "codemirror_mode": {
    "name": "ipython",
    "version": 3
   },
   "file_extension": ".py",
   "mimetype": "text/x-python",
   "name": "python",
   "nbconvert_exporter": "python",
   "pygments_lexer": "ipython3",
   "version": "3.11.5"
  }
 },
 "nbformat": 4,
 "nbformat_minor": 5
}
