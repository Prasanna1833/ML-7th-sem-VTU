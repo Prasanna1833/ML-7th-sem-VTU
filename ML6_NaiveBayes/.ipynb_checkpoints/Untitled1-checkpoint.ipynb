{
 "cells": [
  {
   "cell_type": "code",
   "execution_count": 5,
   "id": "28e317e0-8cfc-4fb8-9156-f21b207d6bd7",
   "metadata": {},
   "outputs": [
    {
     "name": "stdout",
     "output_type": "stream",
     "text": [
      "      outlook temperature humidity   windy\n",
      "0       sunny         hot     high    weak\n",
      "1       sunny         hot     high  strong\n",
      "2    overcast         hot     high    weak\n",
      "3        rain        mild     high    weak\n",
      "4        rain        cool   normal    weak\n",
      "5        rain        cool   normal  strong\n",
      "6   overcast         cool   normal  strong\n",
      "7       sunny        mild     high    weak\n",
      "8       sunny        cool   normal    weak\n",
      "9        rain        mild   normal    weak\n",
      "10      sunny        mild   normal  strong\n",
      "11   overcast        mild     high  strong\n",
      "12   overcast         hot   normal    weak\n",
      "13       rain        mild     high  strong\n",
      "0      no\n",
      "1      no\n",
      "2     yes\n",
      "3     yes\n",
      "4     yes\n",
      "5      no\n",
      "6     yes\n",
      "7      no\n",
      "8     yes\n",
      "9     yes\n",
      "10    yes\n",
      "11    yes\n",
      "12    yes\n",
      "13     no\n",
      "Name: play_tennis, dtype: object\n"
     ]
    }
   ],
   "source": [
    "import pandas as pd\n",
    "from sklearn.naive_bayes import GaussianNB\n",
    "from sklearn.preprocessing import LabelEncoder\n",
    "\n",
    "tennis = pd.read_csv(\"tennis.csv\")\n",
    "x = tennis.iloc[:,:-1]\n",
    "y = tennis.iloc[:,-1]\n",
    "print(x)\n",
    "print(y)"
   ]
  },
  {
   "cell_type": "code",
   "execution_count": 8,
   "id": "dd171f8e-2791-450c-bf7a-9d6f0a6687b0",
   "metadata": {},
   "outputs": [
    {
     "name": "stdout",
     "output_type": "stream",
     "text": [
      "    outlook  temperature  humidity  windy\n",
      "0         3            1         0      1\n",
      "1         3            1         0      0\n",
      "2         0            1         0      1\n",
      "3         2            2         0      1\n",
      "4         2            0         1      1\n",
      "5         2            0         1      0\n",
      "6         1            0         1      0\n",
      "7         3            2         0      1\n",
      "8         3            0         1      1\n",
      "9         2            2         1      1\n",
      "10        3            2         1      0\n",
      "11        0            2         0      0\n",
      "12        0            1         1      1\n",
      "13        2            2         0      0\n"
     ]
    },
    {
     "name": "stderr",
     "output_type": "stream",
     "text": [
      "C:\\Users\\prasa\\AppData\\Local\\Temp\\ipykernel_8340\\3735283305.py:2: SettingWithCopyWarning: \n",
      "A value is trying to be set on a copy of a slice from a DataFrame.\n",
      "Try using .loc[row_indexer,col_indexer] = value instead\n",
      "\n",
      "See the caveats in the documentation: https://pandas.pydata.org/pandas-docs/stable/user_guide/indexing.html#returning-a-view-versus-a-copy\n",
      "  x.outlook = le_out.fit_transform(x.outlook)\n",
      "C:\\Users\\prasa\\AppData\\Local\\Temp\\ipykernel_8340\\3735283305.py:5: SettingWithCopyWarning: \n",
      "A value is trying to be set on a copy of a slice from a DataFrame.\n",
      "Try using .loc[row_indexer,col_indexer] = value instead\n",
      "\n",
      "See the caveats in the documentation: https://pandas.pydata.org/pandas-docs/stable/user_guide/indexing.html#returning-a-view-versus-a-copy\n",
      "  x.temperature = le_temp.fit_transform(x.temperature)\n",
      "C:\\Users\\prasa\\AppData\\Local\\Temp\\ipykernel_8340\\3735283305.py:8: SettingWithCopyWarning: \n",
      "A value is trying to be set on a copy of a slice from a DataFrame.\n",
      "Try using .loc[row_indexer,col_indexer] = value instead\n",
      "\n",
      "See the caveats in the documentation: https://pandas.pydata.org/pandas-docs/stable/user_guide/indexing.html#returning-a-view-versus-a-copy\n",
      "  x.humidity = le_hum.fit_transform(x.humidity)\n",
      "C:\\Users\\prasa\\AppData\\Local\\Temp\\ipykernel_8340\\3735283305.py:11: SettingWithCopyWarning: \n",
      "A value is trying to be set on a copy of a slice from a DataFrame.\n",
      "Try using .loc[row_indexer,col_indexer] = value instead\n",
      "\n",
      "See the caveats in the documentation: https://pandas.pydata.org/pandas-docs/stable/user_guide/indexing.html#returning-a-view-versus-a-copy\n",
      "  x.windy = le_wind.fit_transform(x.windy)\n"
     ]
    }
   ],
   "source": [
    "le_out = LabelEncoder()\n",
    "x.outlook = le_out.fit_transform(x.outlook)\n",
    "\n",
    "le_temp = LabelEncoder()\n",
    "x.temperature = le_temp.fit_transform(x.temperature)\n",
    "\n",
    "le_hum= LabelEncoder()\n",
    "x.humidity = le_hum.fit_transform(x.humidity)\n",
    "\n",
    "le_wind = LabelEncoder()\n",
    "x.windy = le_wind.fit_transform(x.windy)\n",
    "print(x)"
   ]
  },
  {
   "cell_type": "code",
   "execution_count": 10,
   "id": "4f35dd6f-55eb-488a-a0e0-b9c36bdcc15b",
   "metadata": {},
   "outputs": [
    {
     "data": {
      "text/plain": [
       "array([0, 0, 1, 1, 1, 0, 1, 0, 1, 1, 1, 1, 1, 0], dtype=int64)"
      ]
     },
     "execution_count": 10,
     "metadata": {},
     "output_type": "execute_result"
    }
   ],
   "source": [
    "le_target = LabelEncoder()\n",
    "y = le_target.fit_transform(y)\n",
    "y"
   ]
  },
  {
   "cell_type": "code",
   "execution_count": 13,
   "id": "24dc9930-a1dd-4eb0-9e7d-2f9735bbda4e",
   "metadata": {},
   "outputs": [
    {
     "name": "stdout",
     "output_type": "stream",
     "text": [
      "accuracy score is : 0.6666666666666666\n"
     ]
    }
   ],
   "source": [
    "from sklearn.model_selection import train_test_split\n",
    "x_train, x_test, y_train, y_test = train_test_split(x,y,test_size=0.2)\n",
    "classifier = GaussianNB()\n",
    "classifier.fit(x_train, y_train)\n",
    "\n",
    "from sklearn.metrics import accuracy_score\n",
    "print(\"accuracy score is :\",accuracy_score(classifier.predict(x_test),y_test))"
   ]
  }
 ],
 "metadata": {
  "kernelspec": {
   "display_name": "Python 3 (ipykernel)",
   "language": "python",
   "name": "python3"
  },
  "language_info": {
   "codemirror_mode": {
    "name": "ipython",
    "version": 3
   },
   "file_extension": ".py",
   "mimetype": "text/x-python",
   "name": "python",
   "nbconvert_exporter": "python",
   "pygments_lexer": "ipython3",
   "version": "3.11.5"
  }
 },
 "nbformat": 4,
 "nbformat_minor": 5
}
