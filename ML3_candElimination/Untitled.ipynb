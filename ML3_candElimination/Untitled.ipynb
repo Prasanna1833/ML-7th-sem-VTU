{
 "cells": [
  {
   "cell_type": "code",
   "execution_count": 10,
   "id": "d3492f64-5fe3-4da7-bb84-1bdaf3ea7776",
   "metadata": {},
   "outputs": [
    {
     "name": "stdout",
     "output_type": "stream",
     "text": [
      "['sunny', 'warm', '?', 'strong', '?', '?']\n",
      "[['sunny', '?', '?', '?', '?', '?'], ['?', 'warm', '?', '?', '?', '?']]\n"
     ]
    }
   ],
   "source": [
    "import csv\n",
    "\n",
    "\n",
    "with open(\"sport.csv\") as f:\n",
    "    csv_file = csv.reader(f)\n",
    "    data = list(csv_file)\n",
    "    specific = data[1][:-1]\n",
    "    general = [['?' for i in range(len(specific))] for j in range(len(specific))]\n",
    "    #print(specific)\n",
    "    #print(general)\n",
    "\n",
    "    for i in data:\n",
    "        if i[-1] == 'yes':\n",
    "            for j in range(len(specific)):\n",
    "                if i[j] != specific[j]:\n",
    "                    specific[j] = '?'\n",
    "                    general[j][j] = '?'\n",
    "\n",
    "    for i in data:\n",
    "        if i[-1] == 'no':\n",
    "            for j in range(len(specific)):\n",
    "                if i[j] != specific[j]:\n",
    "                    general[j][j] = specific[j]\n",
    "                else:\n",
    "                    general[j][j] = '?'\n",
    "\n",
    "    #print(specific)\n",
    "    #print(general)\n",
    "\n",
    "gh = []\n",
    "for i in general:\n",
    "    for j in i:\n",
    "        if j != '?':\n",
    "            gh.append(i)\n",
    "            break\n",
    "\n",
    "print(\"So the specific and general Hypothesis are as follows => \")\n",
    "print(specific)\n",
    "print(gh)\n",
    "    "
   ]
  }
 ],
 "metadata": {
  "kernelspec": {
   "display_name": "Python 3 (ipykernel)",
   "language": "python",
   "name": "python3"
  },
  "language_info": {
   "codemirror_mode": {
    "name": "ipython",
    "version": 3
   },
   "file_extension": ".py",
   "mimetype": "text/x-python",
   "name": "python",
   "nbconvert_exporter": "python",
   "pygments_lexer": "ipython3",
   "version": "3.11.5"
  }
 },
 "nbformat": 4,
 "nbformat_minor": 5
}
