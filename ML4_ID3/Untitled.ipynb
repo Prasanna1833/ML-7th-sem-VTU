{
 "cells": [
  {
   "cell_type": "code",
   "execution_count": 12,
   "id": "082738c2-8b45-4cf7-b499-5688271e9ba8",
   "metadata": {},
   "outputs": [],
   "source": [
    "import pandas as pd\n",
    "from collections import Counter\n",
    "from sklearn.feature_selection import mutual_info_classif\n",
    "from pprint import pprint\n",
    "\n",
    "def id3(df, attribute, target, default_class = None):\n",
    "    cnt = Counter(x for x in df[target])\n",
    "    if len(cnt) == 1:\n",
    "        return next(iter(cnt))\n",
    "    elif df.empty or (not attribute):\n",
    "        return default_class\n",
    "    else:\n",
    "        gainz = mutual_info_classif(df[attribute],df[target], discrete_features = True)\n",
    "        max_index = gainz.tolist().index(max(gainz))\n",
    "        best_attr = attribute[max_index]\n",
    "        tree = {best_attr:{}}\n",
    "        remaining_attr = [i for i in attribute if i!= best_attr]\n",
    "\n",
    "        for attr_val,data_subset in df.groupby(best_attr):\n",
    "            subtree = id3(data_subset, remaining_attr,target, default_class)\n",
    "            tree[best_attr][attr_val] = subtree\n",
    "        return tree\n",
    "\n",
    "\n",
    "    \n"
   ]
  },
  {
   "cell_type": "code",
   "execution_count": 13,
   "id": "d7103fff-cd04-421d-a061-30501c9e49d9",
   "metadata": {},
   "outputs": [
    {
     "name": "stdout",
     "output_type": "stream",
     "text": [
      "    outlook  temperature  humidity   wind  play_tennis\n",
      "0         0            0         0  False            0\n",
      "1         0            0         0   True            0\n",
      "2         1            0         0  False            1\n",
      "3         2            1         0  False            1\n",
      "4         2            2         1  False            1\n",
      "5         2            2         1   True            0\n",
      "6         1            2         1   True            1\n",
      "7         0            1         0  False            0\n",
      "8         0            2         1  False            1\n",
      "9         2            1         1  False            1\n",
      "10        0            1         1   True            1\n",
      "11        1            1         0   True            1\n",
      "12        1            0         1  False            1\n",
      "13        2            1         0   True            0\n",
      "{'outlook': {0: {'humidity': {0: 0, 1: 1}},\n",
      "             1: 1,\n",
      "             2: {'wind': {False: 1, True: 0}}}}\n"
     ]
    }
   ],
   "source": [
    "df = pd.read_csv(\"tennis.csv\")\n",
    "attribute_names = df.columns.tolist()\n",
    "attribute_names.remove(\"play_tennis\")\n",
    "\n",
    "for colname in df.select_dtypes(\"object\"):\n",
    "    df[colname],_ = df[colname].factorize()\n",
    "print(df)\n",
    "\n",
    "tree = id3(df, attribute_names, \"play_tennis\")\n",
    "pprint(tree)"
   ]
  }
 ],
 "metadata": {
  "kernelspec": {
   "display_name": "Python 3 (ipykernel)",
   "language": "python",
   "name": "python3"
  },
  "language_info": {
   "codemirror_mode": {
    "name": "ipython",
    "version": 3
   },
   "file_extension": ".py",
   "mimetype": "text/x-python",
   "name": "python",
   "nbconvert_exporter": "python",
   "pygments_lexer": "ipython3",
   "version": "3.11.5"
  }
 },
 "nbformat": 4,
 "nbformat_minor": 5
}
