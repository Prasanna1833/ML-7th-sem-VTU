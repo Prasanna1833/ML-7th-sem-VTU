{
 "cells": [
  {
   "cell_type": "code",
   "execution_count": 5,
   "id": "df350b17-5138-49bb-a53c-137d09662c3c",
   "metadata": {},
   "outputs": [],
   "source": [
    "from sklearn import datasets\n",
    "from sklearn.model_selection import train_test_split\n",
    "from sklearn.neighbors import KNeighborsClassifier\n"
   ]
  },
  {
   "cell_type": "code",
   "execution_count": 8,
   "id": "522fbc6d-0910-42fd-840a-f66e902968d9",
   "metadata": {},
   "outputs": [
    {
     "name": "stdout",
     "output_type": "stream",
     "text": [
      "iris datasets is loaded \n",
      "label 0 - setosa\n",
      "label 1 - versicolor\n",
      "label 2 - virginica\n"
     ]
    }
   ],
   "source": [
    "iris = datasets.load_iris()\n",
    "print(\"iris datasets is loaded \")\n",
    "x_train, x_test, y_train, y_test = train_test_split(iris.data , iris.target,test_size = 0.1)\n",
    "for i in range(len(iris.target_names)):\n",
    "    print(\"label\",i,\"-\",iris.target_names[i])\n"
   ]
  },
  {
   "cell_type": "code",
   "execution_count": 9,
   "id": "7dd17e69-1f7d-4584-ac69-81908a6f0601",
   "metadata": {},
   "outputs": [],
   "source": [
    "classifier = KNeighborsClassifier(n_neighbors = 2)\n",
    "classifier.fit(x_train,y_train)\n",
    "y_pred = classifier.predict(x_test)"
   ]
  },
  {
   "cell_type": "code",
   "execution_count": 16,
   "id": "c43d216d-0a89-441f-b0ae-0aac5f1cc73a",
   "metadata": {},
   "outputs": [
    {
     "name": "stdout",
     "output_type": "stream",
     "text": [
      "result of classifier with n=1 \n",
      "sample [5.  2.3 3.3 1. ] actual value -> 1 predicted value -> 1\n",
      "accuracy score =  1.0\n",
      "sample [6.7 3.  5.2 2.3] actual value -> 2 predicted value -> 2\n",
      "accuracy score =  1.0\n",
      "sample [5.4 3.4 1.5 0.4] actual value -> 0 predicted value -> 0\n",
      "accuracy score =  1.0\n",
      "sample [4.6 3.2 1.4 0.2] actual value -> 0 predicted value -> 0\n",
      "accuracy score =  1.0\n",
      "sample [6.6 3.  4.4 1.4] actual value -> 1 predicted value -> 1\n",
      "accuracy score =  1.0\n",
      "sample [6.3 3.4 5.6 2.4] actual value -> 2 predicted value -> 2\n",
      "accuracy score =  1.0\n",
      "sample [4.8 3.4 1.6 0.2] actual value -> 0 predicted value -> 0\n",
      "accuracy score =  1.0\n",
      "sample [7.  3.2 4.7 1.4] actual value -> 1 predicted value -> 1\n",
      "accuracy score =  1.0\n",
      "sample [5.8 2.8 5.1 2.4] actual value -> 2 predicted value -> 2\n",
      "accuracy score =  1.0\n",
      "sample [4.9 2.4 3.3 1. ] actual value -> 1 predicted value -> 1\n",
      "accuracy score =  1.0\n",
      "sample [6.  3.4 4.5 1.6] actual value -> 1 predicted value -> 1\n",
      "accuracy score =  1.0\n",
      "sample [6.7 3.1 4.4 1.4] actual value -> 1 predicted value -> 1\n",
      "accuracy score =  1.0\n",
      "sample [6.4 2.9 4.3 1.3] actual value -> 1 predicted value -> 1\n",
      "accuracy score =  1.0\n",
      "sample [5.6 2.8 4.9 2. ] actual value -> 2 predicted value -> 2\n",
      "accuracy score =  1.0\n",
      "sample [4.9 3.  1.4 0.2] actual value -> 0 predicted value -> 0\n",
      "accuracy score =  1.0\n"
     ]
    }
   ],
   "source": [
    "print(\"result of classifier with n=1 \")\n",
    "for i in range(len(x_test)):\n",
    "    print(\"sample\",x_test[i],\"actual value ->\",y_test[i],\"predicted value ->\",y_pred[i])\n",
    "    print(\"accuracy score = \",classifier.score(x_test,y_pred))"
   ]
  }
 ],
 "metadata": {
  "kernelspec": {
   "display_name": "Python 3 (ipykernel)",
   "language": "python",
   "name": "python3"
  },
  "language_info": {
   "codemirror_mode": {
    "name": "ipython",
    "version": 3
   },
   "file_extension": ".py",
   "mimetype": "text/x-python",
   "name": "python",
   "nbconvert_exporter": "python",
   "pygments_lexer": "ipython3",
   "version": "3.11.5"
  }
 },
 "nbformat": 4,
 "nbformat_minor": 5
}
