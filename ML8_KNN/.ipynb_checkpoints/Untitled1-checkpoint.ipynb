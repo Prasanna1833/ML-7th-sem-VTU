{
 "cells": [
  {
   "cell_type": "code",
   "execution_count": 5,
   "id": "cb608e1d-8edd-439e-9675-c1a97a6f9684",
   "metadata": {},
   "outputs": [
    {
     "name": "stdout",
     "output_type": "stream",
     "text": [
      "setosa\n",
      "versicolor\n",
      "virginica\n"
     ]
    }
   ],
   "source": [
    "from sklearn import datasets\n",
    "from sklearn.neighbors import KNeighborsClassifier\n",
    "from sklearn.model_selection import train_test_split\n",
    "from sklearn.metrics import accuracy_score \n",
    "\n",
    "iris = datasets.load_iris()\n",
    "x_train,x_test,y_train,y_test = train_test_split(iris.data,iris.target,test_size = 0.1)\n",
    "for i in range(len(iris.target_names)):\n",
    "    print(iris.target_names[i])"
   ]
  },
  {
   "cell_type": "code",
   "execution_count": 6,
   "id": "f7a3d8bc-d5f7-4645-ac6f-dcbf6ad79ea8",
   "metadata": {},
   "outputs": [],
   "source": [
    "model1 = KNeighborsClassifier(n_neighbors=2)\n",
    "model1.fit(x_train,y_train)\n",
    "pred_y = model1.predict(x_test)"
   ]
  },
  {
   "cell_type": "code",
   "execution_count": 10,
   "id": "6e0705ec-2386-46fe-9ea0-f1ad398e4409",
   "metadata": {},
   "outputs": [
    {
     "name": "stdout",
     "output_type": "stream",
     "text": [
      "[7.6 3.  6.6 2.1] -> 2 -> 2\n",
      "1.0\n",
      "[4.7 3.2 1.6 0.2] -> 0 -> 0\n",
      "1.0\n",
      "[4.9 3.1 1.5 0.2] -> 0 -> 0\n",
      "1.0\n",
      "[6.1 3.  4.9 1.8] -> 2 -> 2\n",
      "1.0\n",
      "[6.3 3.3 6.  2.5] -> 2 -> 2\n",
      "1.0\n",
      "[6.7 3.  5.  1.7] -> 1 -> 1\n",
      "1.0\n",
      "[5.1 2.5 3.  1.1] -> 1 -> 1\n",
      "1.0\n",
      "[6.1 2.9 4.7 1.4] -> 1 -> 1\n",
      "1.0\n",
      "[6.8 3.  5.5 2.1] -> 2 -> 2\n",
      "1.0\n",
      "[5.  2.  3.5 1. ] -> 1 -> 1\n",
      "1.0\n",
      "[5.7 2.8 4.5 1.3] -> 1 -> 1\n",
      "1.0\n",
      "[4.6 3.6 1.  0.2] -> 0 -> 0\n",
      "1.0\n",
      "[5.1 3.5 1.4 0.2] -> 0 -> 0\n",
      "1.0\n",
      "[4.9 2.5 4.5 1.7] -> 2 -> 1\n",
      "1.0\n",
      "[4.6 3.4 1.4 0.3] -> 0 -> 0\n",
      "1.0\n"
     ]
    }
   ],
   "source": [
    "for i in range(len(x_test)):\n",
    "    print(x_test[i],\"->\",y_test[i],\"->\",pred_y[i])\n",
    "    print(model1.score(x_test,pred_y))"
   ]
  }
 ],
 "metadata": {
  "kernelspec": {
   "display_name": "Python 3 (ipykernel)",
   "language": "python",
   "name": "python3"
  },
  "language_info": {
   "codemirror_mode": {
    "name": "ipython",
    "version": 3
   },
   "file_extension": ".py",
   "mimetype": "text/x-python",
   "name": "python",
   "nbconvert_exporter": "python",
   "pygments_lexer": "ipython3",
   "version": "3.11.5"
  }
 },
 "nbformat": 4,
 "nbformat_minor": 5
}
